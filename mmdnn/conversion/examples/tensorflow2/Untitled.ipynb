{
 "cells": [
  {
   "cell_type": "code",
   "execution_count": 1,
   "metadata": {},
   "outputs": [],
   "source": [
    "from __future__ import absolute_import\n",
    "import os\n",
    "import tensorflow as tf"
   ]
  },
  {
   "cell_type": "code",
   "execution_count": 7,
   "metadata": {},
   "outputs": [
    {
     "name": "stdout",
     "output_type": "stream",
     "text": [
      "Collecting Pillow\n",
      "  Downloading Pillow-7.2.0-cp36-cp36m-manylinux1_x86_64.whl (2.2 MB)\n",
      "\u001b[K     |████████████████████████████████| 2.2 MB 921 kB/s eta 0:00:01\n",
      "\u001b[?25hInstalling collected packages: Pillow\n",
      "Successfully installed Pillow-7.2.0\n"
     ]
    }
   ],
   "source": [
    "!pip install Pillow"
   ]
  },
  {
   "cell_type": "code",
   "execution_count": 8,
   "metadata": {},
   "outputs": [],
   "source": [
    "import sys\n",
    "sys.path.append('/app/')\n",
    "from mmdnn.conversion.examples.imagenet_test import TestKit\n",
    "from mmdnn.conversion.examples.extractor import base_extractor\n",
    "from mmdnn.conversion.common.utils import download_file\n"
   ]
  },
  {
   "cell_type": "code",
   "execution_count": 16,
   "metadata": {},
   "outputs": [],
   "source": [
    "#----------------------------------------------------------------------------------------------\n",
    "#  Copyright (c) Microsoft Corporation. All rights reserved.\n",
    "#  Licensed under the MIT License. See License.txt in the project root for license information.\n",
    "#----------------------------------------------------------------------------------------------\n",
    "\n",
    "\n",
    "\n",
    "class tf2_extractor(base_extractor):\n",
    "\n",
    "    MMDNN_BASE_URL = 'http://mmdnn.eastasia.cloudapp.azure.com:89/models/'\n",
    "\n",
    "    architecture_map = {\n",
    "        'inception_v3'        : lambda : tf.keras.applications.inception_v3.InceptionV3(input_shape=(299, 299, 3)),\n",
    "        'vgg16'               : lambda : tf.keras.applications.vgg16.VGG16(),\n",
    "        'vgg19'               : lambda : tf.keras.applications.vgg19.VGG19(),\n",
    "        'resnet50'            : lambda : tf.keras.applications.resnet50.ResNet50(),\n",
    "        'mobilenet'           : lambda : tf.keras.applications.mobilenet.MobileNet(),\n",
    "        'xception'            : lambda : tf.keras.applications.xception.Xception(input_shape=(299, 299, 3)),\n",
    "        'inception_resnet_v2' : lambda : tf.keras.applications.inception_resnet_v2.InceptionResNetV2(input_shape=(299, 299, 3)),\n",
    "        'densenet'            : lambda : tf.keras.applications.densenet.DenseNet201(),\n",
    "        'nasnet'              : lambda : tf.keras.applications.nasnet.NASNetLarge(),\n",
    "    }\n",
    "\n",
    "    thirdparty_map = {\n",
    "        'yolo2'    : MMDNN_BASE_URL + 'keras/yolo2.h5',\n",
    "    }\n",
    "\n",
    "    image_size = {\n",
    "        'inception_v3'      : 299,\n",
    "        'vgg16'             : 224,\n",
    "        'vgg19'             : 224,\n",
    "        'resnet'            : 224,\n",
    "        'mobilenet'         : 224,\n",
    "        'xception'          : 299,\n",
    "        'inception_resnet'  : 299,\n",
    "        'densenet'          : 224,\n",
    "        'nasnet'            : 331,\n",
    "    }\n",
    "\n",
    "    @classmethod\n",
    "    def help(cls):\n",
    "        print('Supported models: {}'.format(set().union(cls.architecture_map.keys(), cls.thirdparty_map.keys())))\n",
    "\n",
    "\n",
    "    @classmethod\n",
    "    def download(cls, architecture, path=\"./\"):\n",
    "        if architecture in cls.thirdparty_map:\n",
    "            weight_file = download_file(cls.thirdparty_map[architecture], directory=path)\n",
    "            return weight_file\n",
    "\n",
    "        elif cls.sanity_check(architecture):\n",
    "            output_filename = path + 'imagenet_{}.h5'.format(architecture)\n",
    "            if os.path.exists(output_filename) == False:\n",
    "                model = cls.architecture_map[architecture]()\n",
    "                model.save(output_filename)\n",
    "                print(\"Keras model {} is saved in [{}]\".format(architecture, output_filename))\n",
    "                del model\n",
    "                return output_filename\n",
    "\n",
    "            else:\n",
    "                print(\"File [{}] existed, skip download.\".format(output_filename))\n",
    "                return output_filename\n",
    "\n",
    "        else:\n",
    "            return None\n",
    "\n",
    "\n",
    "    @classmethod\n",
    "    def inference(cls, architecture, files, path, image_path):\n",
    "        if architecture in cls.thirdparty_map:\n",
    "            model = keras.models.load_model(files)\n",
    "\n",
    "        elif cls.sanity_check(architecture):\n",
    "            model = cls.architecture_map[architecture]()\n",
    "\n",
    "        else:\n",
    "            model = None\n",
    "\n",
    "        if model:\n",
    "            import numpy as np\n",
    "            func = TestKit.preprocess_func['keras'][architecture]\n",
    "            img = func(image_path)\n",
    "            img = np.expand_dims(img, axis=0)\n",
    "            predict = model.predict(img)\n",
    "            predict = np.squeeze(predict)\n",
    "            del model\n",
    "            return predict\n",
    "\n",
    "        else:\n",
    "            return None\n"
   ]
  },
  {
   "cell_type": "code",
   "execution_count": 17,
   "metadata": {},
   "outputs": [],
   "source": [
    "tf2_ex = tf2_extractor()"
   ]
  },
  {
   "cell_type": "code",
   "execution_count": 18,
   "metadata": {},
   "outputs": [
    {
     "name": "stdout",
     "output_type": "stream",
     "text": [
      "File [./imagenet_vgg16.h5] existed, skip download.\n"
     ]
    }
   ],
   "source": [
    "filename = tf2_ex.download('vgg16')"
   ]
  },
  {
   "cell_type": "code",
   "execution_count": 23,
   "metadata": {},
   "outputs": [],
   "source": [
    "predict = tf2_ex.inference('vgg16','','','/app/docs/OwlDCP_0150.jpg')"
   ]
  },
  {
   "cell_type": "code",
   "execution_count": 26,
   "metadata": {},
   "outputs": [
    {
     "name": "stdout",
     "output_type": "stream",
     "text": [
      "0.01763137\n"
     ]
    }
   ],
   "source": [
    "print(predict[0])"
   ]
  },
  {
   "cell_type": "code",
   "execution_count": null,
   "metadata": {},
   "outputs": [],
   "source": []
  }
 ],
 "metadata": {
  "kernelspec": {
   "display_name": "Python 3",
   "language": "python",
   "name": "python3"
  },
  "language_info": {
   "codemirror_mode": {
    "name": "ipython",
    "version": 3
   },
   "file_extension": ".py",
   "mimetype": "text/x-python",
   "name": "python",
   "nbconvert_exporter": "python",
   "pygments_lexer": "ipython3",
   "version": "3.6.9"
  }
 },
 "nbformat": 4,
 "nbformat_minor": 4
}
