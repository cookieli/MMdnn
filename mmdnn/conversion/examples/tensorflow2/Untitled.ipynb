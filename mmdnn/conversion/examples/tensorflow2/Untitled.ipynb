{
 "cells": [
  {
   "cell_type": "code",
   "execution_count": 1,
   "metadata": {},
   "outputs": [],
   "source": [
    "from __future__ import absolute_import\n",
    "import os\n",
    "import tensorflow as tf"
   ]
  },
  {
   "cell_type": "code",
   "execution_count": 2,
   "metadata": {},
   "outputs": [
    {
     "name": "stdout",
     "output_type": "stream",
     "text": [
      "Requirement already satisfied: Pillow in /usr/local/lib/python3.6/dist-packages (8.0.0)\r\n"
     ]
    }
   ],
   "source": [
    "!pip install Pillow"
   ]
  },
  {
   "cell_type": "code",
   "execution_count": 3,
   "metadata": {},
   "outputs": [],
   "source": [
    "import sys\n",
    "sys.path.append('/app/')\n",
    "from mmdnn.conversion.examples.imagenet_test import TestKit\n",
    "from mmdnn.conversion.examples.extractor import base_extractor\n",
    "from mmdnn.conversion.common.utils import download_file\n"
   ]
  },
  {
   "cell_type": "code",
   "execution_count": 4,
   "metadata": {},
   "outputs": [],
   "source": [
    "#----------------------------------------------------------------------------------------------\n",
    "#  Copyright (c) Microsoft Corporation. All rights reserved.\n",
    "#  Licensed under the MIT License. See License.txt in the project root for license information.\n",
    "#----------------------------------------------------------------------------------------------\n",
    "\n",
    "\n",
    "\n",
    "class tf2_extractor(base_extractor):\n",
    "\n",
    "    MMDNN_BASE_URL = 'http://mmdnn.eastasia.cloudapp.azure.com:89/models/'\n",
    "\n",
    "    architecture_map = {\n",
    "        'inception_v3'        : lambda : tf.keras.applications.inception_v3.InceptionV3(input_shape=(299, 299, 3)),\n",
    "        'vgg16'               : lambda : tf.keras.applications.vgg16.VGG16(),\n",
    "        'vgg19'               : lambda : tf.keras.applications.vgg19.VGG19(),\n",
    "        'resnet50'            : lambda : tf.keras.applications.resnet50.ResNet50(),\n",
    "        'mobilenet'           : lambda : tf.keras.applications.mobilenet.MobileNet(),\n",
    "        'xception'            : lambda : tf.keras.applications.xception.Xception(input_shape=(299, 299, 3)),\n",
    "        'inception_resnet_v2' : lambda : tf.keras.applications.inception_resnet_v2.InceptionResNetV2(input_shape=(299, 299, 3)),\n",
    "        'densenet'            : lambda : tf.keras.applications.densenet.DenseNet201(),\n",
    "        'nasnet'              : lambda : tf.keras.applications.nasnet.NASNetLarge(),\n",
    "    }\n",
    "\n",
    "    thirdparty_map = {\n",
    "        'yolo2'    : MMDNN_BASE_URL + 'keras/yolo2.h5',\n",
    "    }\n",
    "\n",
    "    image_size = {\n",
    "        'inception_v3'      : 299,\n",
    "        'vgg16'             : 224,\n",
    "        'vgg19'             : 224,\n",
    "        'resnet'            : 224,\n",
    "        'mobilenet'         : 224,\n",
    "        'xception'          : 299,\n",
    "        'inception_resnet'  : 299,\n",
    "        'densenet'          : 224,\n",
    "        'nasnet'            : 331,\n",
    "    }\n",
    "\n",
    "    @classmethod\n",
    "    def help(cls):\n",
    "        print('Supported models: {}'.format(set().union(cls.architecture_map.keys(), cls.thirdparty_map.keys())))\n",
    "\n",
    "\n",
    "    @classmethod\n",
    "    def download(cls, architecture, path=\"./\"):\n",
    "        if architecture in cls.thirdparty_map:\n",
    "            weight_file = download_file(cls.thirdparty_map[architecture], directory=path)\n",
    "            return weight_file\n",
    "\n",
    "        elif cls.sanity_check(architecture):\n",
    "            output_filename = path + 'imagenet_{}.h5'.format(architecture)\n",
    "            if os.path.exists(output_filename) == False:\n",
    "                model = cls.architecture_map[architecture]()\n",
    "                model.save(output_filename)\n",
    "                print(\"Keras model {} is saved in [{}]\".format(architecture, output_filename))\n",
    "                del model\n",
    "                return output_filename\n",
    "\n",
    "            else:\n",
    "                print(\"File [{}] existed, skip download.\".format(output_filename))\n",
    "                return output_filename\n",
    "\n",
    "        else:\n",
    "            return None\n",
    "\n",
    "\n",
    "    @classmethod\n",
    "    def inference(cls, architecture, files, path, image_path):\n",
    "        if architecture in cls.thirdparty_map:\n",
    "            model = keras.models.load_model(files)\n",
    "\n",
    "        elif cls.sanity_check(architecture):\n",
    "            model = cls.architecture_map[architecture]()\n",
    "\n",
    "        else:\n",
    "            model = None\n",
    "\n",
    "        if model:\n",
    "            import numpy as np\n",
    "            func = TestKit.preprocess_func['keras'][architecture]\n",
    "            img = func(image_path)\n",
    "            img = np.expand_dims(img, axis=0)\n",
    "            predict = model.predict(img)\n",
    "            predict = np.squeeze(predict)\n",
    "            del model\n",
    "            return predict\n",
    "\n",
    "        else:\n",
    "            return None\n"
   ]
  },
  {
   "cell_type": "code",
   "execution_count": 5,
   "metadata": {},
   "outputs": [],
   "source": [
    "tf2_ex = tf2_extractor()"
   ]
  },
  {
   "cell_type": "code",
   "execution_count": 6,
   "metadata": {},
   "outputs": [
    {
     "name": "stdout",
     "output_type": "stream",
     "text": [
      "Downloading data from https://storage.googleapis.com/tensorflow/keras-applications/vgg16/vgg16_weights_tf_dim_ordering_tf_kernels.h5\n",
      "553467904/553467096 [==============================] - 57s 0us/step\n",
      "Keras model vgg16 is saved in [./imagenet_vgg16.h5]\n"
     ]
    }
   ],
   "source": [
    "filename = tf2_ex.download('vgg16')"
   ]
  },
  {
   "cell_type": "code",
   "execution_count": 7,
   "metadata": {},
   "outputs": [
    {
     "ename": "FileNotFoundError",
     "evalue": "[Errno 2] No such file or directory: '/app/docs/OwlDCP_0150.jpg'",
     "output_type": "error",
     "traceback": [
      "\u001b[0;31m---------------------------------------------------------------------------\u001b[0m",
      "\u001b[0;31mFileNotFoundError\u001b[0m                         Traceback (most recent call last)",
      "\u001b[0;32m<ipython-input-7-c8dafbce3210>\u001b[0m in \u001b[0;36m<module>\u001b[0;34m\u001b[0m\n\u001b[0;32m----> 1\u001b[0;31m \u001b[0mpredict\u001b[0m \u001b[0;34m=\u001b[0m \u001b[0mtf2_ex\u001b[0m\u001b[0;34m.\u001b[0m\u001b[0minference\u001b[0m\u001b[0;34m(\u001b[0m\u001b[0;34m'vgg16'\u001b[0m\u001b[0;34m,\u001b[0m\u001b[0;34m''\u001b[0m\u001b[0;34m,\u001b[0m\u001b[0;34m''\u001b[0m\u001b[0;34m,\u001b[0m\u001b[0;34m'/app/docs/OwlDCP_0150.jpg'\u001b[0m\u001b[0;34m)\u001b[0m\u001b[0;34m\u001b[0m\u001b[0;34m\u001b[0m\u001b[0m\n\u001b[0m",
      "\u001b[0;32m<ipython-input-4-30ff135d33b5>\u001b[0m in \u001b[0;36minference\u001b[0;34m(cls, architecture, files, path, image_path)\u001b[0m\n\u001b[1;32m     80\u001b[0m             \u001b[0;32mimport\u001b[0m \u001b[0mnumpy\u001b[0m \u001b[0;32mas\u001b[0m \u001b[0mnp\u001b[0m\u001b[0;34m\u001b[0m\u001b[0;34m\u001b[0m\u001b[0m\n\u001b[1;32m     81\u001b[0m             \u001b[0mfunc\u001b[0m \u001b[0;34m=\u001b[0m \u001b[0mTestKit\u001b[0m\u001b[0;34m.\u001b[0m\u001b[0mpreprocess_func\u001b[0m\u001b[0;34m[\u001b[0m\u001b[0;34m'keras'\u001b[0m\u001b[0;34m]\u001b[0m\u001b[0;34m[\u001b[0m\u001b[0marchitecture\u001b[0m\u001b[0;34m]\u001b[0m\u001b[0;34m\u001b[0m\u001b[0;34m\u001b[0m\u001b[0m\n\u001b[0;32m---> 82\u001b[0;31m             \u001b[0mimg\u001b[0m \u001b[0;34m=\u001b[0m \u001b[0mfunc\u001b[0m\u001b[0;34m(\u001b[0m\u001b[0mimage_path\u001b[0m\u001b[0;34m)\u001b[0m\u001b[0;34m\u001b[0m\u001b[0;34m\u001b[0m\u001b[0m\n\u001b[0m\u001b[1;32m     83\u001b[0m             \u001b[0mimg\u001b[0m \u001b[0;34m=\u001b[0m \u001b[0mnp\u001b[0m\u001b[0;34m.\u001b[0m\u001b[0mexpand_dims\u001b[0m\u001b[0;34m(\u001b[0m\u001b[0mimg\u001b[0m\u001b[0;34m,\u001b[0m \u001b[0maxis\u001b[0m\u001b[0;34m=\u001b[0m\u001b[0;36m0\u001b[0m\u001b[0;34m)\u001b[0m\u001b[0;34m\u001b[0m\u001b[0;34m\u001b[0m\u001b[0m\n\u001b[1;32m     84\u001b[0m             \u001b[0mpredict\u001b[0m \u001b[0;34m=\u001b[0m \u001b[0mmodel\u001b[0m\u001b[0;34m.\u001b[0m\u001b[0mpredict\u001b[0m\u001b[0;34m(\u001b[0m\u001b[0mimg\u001b[0m\u001b[0;34m)\u001b[0m\u001b[0;34m\u001b[0m\u001b[0;34m\u001b[0m\u001b[0m\n",
      "\u001b[0;32m/app/mmdnn/conversion/examples/imagenet_test.py\u001b[0m in \u001b[0;36m<lambda>\u001b[0;34m(path)\u001b[0m\n\u001b[1;32m    118\u001b[0m \u001b[0;34m\u001b[0m\u001b[0m\n\u001b[1;32m    119\u001b[0m         'keras' : {\n\u001b[0;32m--> 120\u001b[0;31m             \u001b[0;34m'vgg16'\u001b[0m                \u001b[0;34m:\u001b[0m \u001b[0;32mlambda\u001b[0m \u001b[0mpath\u001b[0m \u001b[0;34m:\u001b[0m \u001b[0mTestKit\u001b[0m\u001b[0;34m.\u001b[0m\u001b[0mZeroCenter\u001b[0m\u001b[0;34m(\u001b[0m\u001b[0mpath\u001b[0m\u001b[0;34m,\u001b[0m \u001b[0;36m224\u001b[0m\u001b[0;34m,\u001b[0m \u001b[0;32mTrue\u001b[0m\u001b[0;34m)\u001b[0m\u001b[0;34m,\u001b[0m\u001b[0;34m\u001b[0m\u001b[0;34m\u001b[0m\u001b[0m\n\u001b[0m\u001b[1;32m    121\u001b[0m             \u001b[0;34m'vgg19'\u001b[0m                \u001b[0;34m:\u001b[0m \u001b[0;32mlambda\u001b[0m \u001b[0mpath\u001b[0m \u001b[0;34m:\u001b[0m \u001b[0mTestKit\u001b[0m\u001b[0;34m.\u001b[0m\u001b[0mZeroCenter\u001b[0m\u001b[0;34m(\u001b[0m\u001b[0mpath\u001b[0m\u001b[0;34m,\u001b[0m \u001b[0;36m224\u001b[0m\u001b[0;34m,\u001b[0m \u001b[0;32mTrue\u001b[0m\u001b[0;34m)\u001b[0m\u001b[0;34m,\u001b[0m\u001b[0;34m\u001b[0m\u001b[0;34m\u001b[0m\u001b[0m\n\u001b[1;32m    122\u001b[0m             \u001b[0;34m'inception_v3'\u001b[0m         \u001b[0;34m:\u001b[0m \u001b[0;32mlambda\u001b[0m \u001b[0mpath\u001b[0m \u001b[0;34m:\u001b[0m \u001b[0mTestKit\u001b[0m\u001b[0;34m.\u001b[0m\u001b[0mStandard\u001b[0m\u001b[0;34m(\u001b[0m\u001b[0mpath\u001b[0m\u001b[0;34m,\u001b[0m \u001b[0;36m299\u001b[0m\u001b[0;34m)\u001b[0m\u001b[0;34m,\u001b[0m\u001b[0;34m\u001b[0m\u001b[0;34m\u001b[0m\u001b[0m\n",
      "\u001b[0;32m/app/mmdnn/conversion/examples/imagenet_test.py\u001b[0m in \u001b[0;36mZeroCenter\u001b[0;34m(path, size, BGRTranspose)\u001b[0m\n\u001b[1;32m    247\u001b[0m     \u001b[0;34m@\u001b[0m\u001b[0mstaticmethod\u001b[0m\u001b[0;34m\u001b[0m\u001b[0;34m\u001b[0m\u001b[0m\n\u001b[1;32m    248\u001b[0m     \u001b[0;32mdef\u001b[0m \u001b[0mZeroCenter\u001b[0m\u001b[0;34m(\u001b[0m\u001b[0mpath\u001b[0m\u001b[0;34m,\u001b[0m \u001b[0msize\u001b[0m\u001b[0;34m,\u001b[0m \u001b[0mBGRTranspose\u001b[0m\u001b[0;34m=\u001b[0m\u001b[0;32mFalse\u001b[0m\u001b[0;34m)\u001b[0m\u001b[0;34m:\u001b[0m\u001b[0;34m\u001b[0m\u001b[0;34m\u001b[0m\u001b[0m\n\u001b[0;32m--> 249\u001b[0;31m         \u001b[0mimg\u001b[0m \u001b[0;34m=\u001b[0m \u001b[0mImage\u001b[0m\u001b[0;34m.\u001b[0m\u001b[0mopen\u001b[0m\u001b[0;34m(\u001b[0m\u001b[0mpath\u001b[0m\u001b[0;34m)\u001b[0m\u001b[0;34m\u001b[0m\u001b[0;34m\u001b[0m\u001b[0m\n\u001b[0m\u001b[1;32m    250\u001b[0m         \u001b[0;32mif\u001b[0m \u001b[0misinstance\u001b[0m\u001b[0;34m(\u001b[0m\u001b[0msize\u001b[0m\u001b[0;34m,\u001b[0m \u001b[0mtuple\u001b[0m\u001b[0;34m)\u001b[0m\u001b[0;34m:\u001b[0m\u001b[0;34m\u001b[0m\u001b[0;34m\u001b[0m\u001b[0m\n\u001b[1;32m    251\u001b[0m             \u001b[0mh\u001b[0m\u001b[0;34m,\u001b[0m \u001b[0mw\u001b[0m \u001b[0;34m=\u001b[0m \u001b[0msize\u001b[0m\u001b[0;34m[\u001b[0m\u001b[0;36m0\u001b[0m\u001b[0;34m]\u001b[0m\u001b[0;34m,\u001b[0m \u001b[0msize\u001b[0m\u001b[0;34m[\u001b[0m\u001b[0;36m1\u001b[0m\u001b[0;34m]\u001b[0m\u001b[0;34m\u001b[0m\u001b[0;34m\u001b[0m\u001b[0m\n",
      "\u001b[0;32m/usr/local/lib/python3.6/dist-packages/PIL/Image.py\u001b[0m in \u001b[0;36mopen\u001b[0;34m(fp, mode, formats)\u001b[0m\n\u001b[1;32m   2889\u001b[0m \u001b[0;34m\u001b[0m\u001b[0m\n\u001b[1;32m   2890\u001b[0m     \u001b[0;32mif\u001b[0m \u001b[0mfilename\u001b[0m\u001b[0;34m:\u001b[0m\u001b[0;34m\u001b[0m\u001b[0;34m\u001b[0m\u001b[0m\n\u001b[0;32m-> 2891\u001b[0;31m         \u001b[0mfp\u001b[0m \u001b[0;34m=\u001b[0m \u001b[0mbuiltins\u001b[0m\u001b[0;34m.\u001b[0m\u001b[0mopen\u001b[0m\u001b[0;34m(\u001b[0m\u001b[0mfilename\u001b[0m\u001b[0;34m,\u001b[0m \u001b[0;34m\"rb\"\u001b[0m\u001b[0;34m)\u001b[0m\u001b[0;34m\u001b[0m\u001b[0;34m\u001b[0m\u001b[0m\n\u001b[0m\u001b[1;32m   2892\u001b[0m         \u001b[0mexclusive_fp\u001b[0m \u001b[0;34m=\u001b[0m \u001b[0;32mTrue\u001b[0m\u001b[0;34m\u001b[0m\u001b[0;34m\u001b[0m\u001b[0m\n\u001b[1;32m   2893\u001b[0m \u001b[0;34m\u001b[0m\u001b[0m\n",
      "\u001b[0;31mFileNotFoundError\u001b[0m: [Errno 2] No such file or directory: '/app/docs/OwlDCP_0150.jpg'"
     ]
    }
   ],
   "source": [
    "predict = tf2_ex.inference('vgg16','','','/app/docs/OwlDCP_0150.jpg')"
   ]
  },
  {
   "cell_type": "code",
   "execution_count": 26,
   "metadata": {},
   "outputs": [
    {
     "name": "stdout",
     "output_type": "stream",
     "text": [
      "0.01763137\n"
     ]
    }
   ],
   "source": [
    "print(predict[0])"
   ]
  },
  {
   "cell_type": "code",
   "execution_count": null,
   "metadata": {},
   "outputs": [],
   "source": []
  }
 ],
 "metadata": {
  "kernelspec": {
   "display_name": "Python 3",
   "language": "python",
   "name": "python3"
  },
  "language_info": {
   "codemirror_mode": {
    "name": "ipython",
    "version": 3
   },
   "file_extension": ".py",
   "mimetype": "text/x-python",
   "name": "python",
   "nbconvert_exporter": "python",
   "pygments_lexer": "ipython3",
   "version": "3.6.9"
  }
 },
 "nbformat": 4,
 "nbformat_minor": 4
}
