{
 "cells": [
  {
   "cell_type": "code",
   "execution_count": 1,
   "metadata": {},
   "outputs": [],
   "source": [
    "import sys\n",
    "sys.path.append('/app/')"
   ]
  },
  {
   "cell_type": "code",
   "execution_count": 2,
   "metadata": {},
   "outputs": [],
   "source": [
    "from mmdnn.conversion.examples.tensorflow2.vgg16_seq import VGG_16"
   ]
  },
  {
   "cell_type": "code",
   "execution_count": 4,
   "metadata": {},
   "outputs": [],
   "source": [
    "from tensorflow import keras\n",
    "from tensorflow.keras.models import Sequential\n",
    "from tensorflow.keras.layers import Flatten, Dense, Dropout\n",
    "from tensorflow.keras.layers import Conv2D, MaxPool2D, ZeroPadding2D\n"
   ]
  },
  {
   "cell_type": "code",
   "execution_count": 5,
   "metadata": {},
   "outputs": [],
   "source": [
    "model = Sequential()\n",
    "model.add(Conv2D(input_shape=(224,224,3),filters=64,kernel_size=(3,3),padding=\"same\", activation=\"relu\"))\n",
    "model.add(Conv2D(filters=64,kernel_size=(3,3),padding=\"same\", activation=\"relu\"))\n",
    "model.add(MaxPool2D(pool_size=(2,2),strides=(2,2)))\n",
    "model.add(Conv2D(filters=128, kernel_size=(3,3), padding=\"same\", activation=\"relu\"))\n",
    "model.add(Conv2D(filters=128, kernel_size=(3,3), padding=\"same\", activation=\"relu\"))\n",
    "model.add(MaxPool2D(pool_size=(2,2),strides=(2,2)))\n",
    "model.add(Conv2D(filters=256, kernel_size=(3,3), padding=\"same\", activation=\"relu\"))\n",
    "model.add(Conv2D(filters=256, kernel_size=(3,3), padding=\"same\", activation=\"relu\"))\n",
    "model.add(Conv2D(filters=256, kernel_size=(3,3), padding=\"same\", activation=\"relu\"))\n",
    "model.add(MaxPool2D(pool_size=(2,2),strides=(2,2)))\n",
    "model.add(Conv2D(filters=512, kernel_size=(3,3), padding=\"same\", activation=\"relu\"))\n",
    "model.add(Conv2D(filters=512, kernel_size=(3,3), padding=\"same\", activation=\"relu\"))\n",
    "model.add(Conv2D(filters=512, kernel_size=(3,3), padding=\"same\", activation=\"relu\"))\n",
    "model.add(MaxPool2D(pool_size=(2,2),strides=(2,2)))\n",
    "model.add(Conv2D(filters=512, kernel_size=(3,3), padding=\"same\", activation=\"relu\"))\n",
    "model.add(Conv2D(filters=512, kernel_size=(3,3), padding=\"same\", activation=\"relu\"))\n",
    "model.add(Conv2D(filters=512, kernel_size=(3,3), padding=\"same\", activation=\"relu\"))\n",
    "model.add(MaxPool2D(pool_size=(2,2),strides=(2,2)))"
   ]
  },
  {
   "cell_type": "code",
   "execution_count": 6,
   "metadata": {},
   "outputs": [],
   "source": [
    "model.add(Flatten())\n",
    "model.add(Dense(units=4096,activation=\"relu\"))\n",
    "model.add(Dense(units=4096,activation=\"relu\"))\n",
    "model.add(Dense(units=2, activation=\"softmax\"))"
   ]
  },
  {
   "cell_type": "code",
   "execution_count": 10,
   "metadata": {},
   "outputs": [],
   "source": [
    "model.compile()"
   ]
  },
  {
   "cell_type": "code",
   "execution_count": 12,
   "metadata": {},
   "outputs": [],
   "source": [
    "model.save(\"tmp.h5\")"
   ]
  },
  {
   "cell_type": "code",
   "execution_count": 15,
   "metadata": {},
   "outputs": [
    {
     "name": "stdout",
     "output_type": "stream",
     "text": [
      "__pycache__   tf2_model_load.ipynb  tf_model_load_seq.ipynb\r\n",
      "tf2_graph.py  tf2_parser.py\t    tmp.h5\r\n"
     ]
    }
   ],
   "source": [
    "!ls"
   ]
  },
  {
   "cell_type": "code",
   "execution_count": 16,
   "metadata": {},
   "outputs": [],
   "source": [
    "imported = tf.keras.models.load_model('tmp.h5')"
   ]
  },
  {
   "cell_type": "code",
   "execution_count": 17,
   "metadata": {},
   "outputs": [
    {
     "name": "stdout",
     "output_type": "stream",
     "text": [
      "oh my god\n",
      "<class 'tensorflow.python.keras.engine.input_layer.InputLayer'>\n",
      "oh my god\n",
      "<class 'tensorflow.python.keras.layers.convolutional.Conv2D'>\n",
      "oh my god\n",
      "<class 'tensorflow.python.keras.layers.convolutional.Conv2D'>\n",
      "oh my god\n",
      "<class 'tensorflow.python.keras.layers.pooling.MaxPooling2D'>\n",
      "oh my god\n",
      "<class 'tensorflow.python.keras.layers.convolutional.Conv2D'>\n",
      "oh my god\n",
      "<class 'tensorflow.python.keras.layers.convolutional.Conv2D'>\n",
      "oh my god\n",
      "<class 'tensorflow.python.keras.layers.pooling.MaxPooling2D'>\n",
      "oh my god\n",
      "<class 'tensorflow.python.keras.layers.convolutional.Conv2D'>\n",
      "oh my god\n",
      "<class 'tensorflow.python.keras.layers.convolutional.Conv2D'>\n",
      "oh my god\n",
      "<class 'tensorflow.python.keras.layers.convolutional.Conv2D'>\n",
      "oh my god\n",
      "<class 'tensorflow.python.keras.layers.pooling.MaxPooling2D'>\n",
      "oh my god\n",
      "<class 'tensorflow.python.keras.layers.convolutional.Conv2D'>\n",
      "oh my god\n",
      "<class 'tensorflow.python.keras.layers.convolutional.Conv2D'>\n",
      "oh my god\n",
      "<class 'tensorflow.python.keras.layers.convolutional.Conv2D'>\n",
      "oh my god\n",
      "<class 'tensorflow.python.keras.layers.pooling.MaxPooling2D'>\n",
      "oh my god\n",
      "<class 'tensorflow.python.keras.layers.convolutional.Conv2D'>\n",
      "oh my god\n",
      "<class 'tensorflow.python.keras.layers.convolutional.Conv2D'>\n",
      "oh my god\n",
      "<class 'tensorflow.python.keras.layers.convolutional.Conv2D'>\n",
      "oh my god\n",
      "<class 'tensorflow.python.keras.layers.pooling.MaxPooling2D'>\n",
      "oh my god\n",
      "<class 'tensorflow.python.keras.layers.core.Flatten'>\n",
      "oh my god\n",
      "<class 'tensorflow.python.keras.layers.core.Dense'>\n",
      "oh my god\n",
      "<class 'tensorflow.python.keras.layers.core.Dense'>\n"
     ]
    }
   ],
   "source": [
    "for i, layer in enumerate(imported.layers):\n",
    "    for node in layer._inbound_nodes:\n",
    "        print(\"oh my god\")\n",
    "        if node.inbound_layers != []:\n",
    "            print(node.inbound_layers.__class__)"
   ]
  },
  {
   "cell_type": "code",
   "execution_count": 18,
   "metadata": {},
   "outputs": [
    {
     "name": "stdout",
     "output_type": "stream",
     "text": [
      "Warning: Graph Construct a self-loop node conv2d_2_input. Ignored.\n"
     ]
    }
   ],
   "source": [
    "from mmdnn.conversion.tensorflow2.tf2_graph import Tf2Graph\n",
    "graph = Tf2Graph(imported)\n",
    "graph.build()"
   ]
  },
  {
   "cell_type": "code",
   "execution_count": 19,
   "metadata": {},
   "outputs": [
    {
     "name": "stdout",
     "output_type": "stream",
     "text": [
      "Conv2D\n",
      "Conv2D\n",
      "MaxPooling2D\n",
      "Conv2D\n",
      "Conv2D\n",
      "MaxPooling2D\n",
      "Conv2D\n",
      "Conv2D\n",
      "Conv2D\n",
      "MaxPooling2D\n",
      "Conv2D\n",
      "Conv2D\n",
      "Conv2D\n",
      "MaxPooling2D\n",
      "Conv2D\n",
      "Conv2D\n",
      "Conv2D\n",
      "MaxPooling2D\n",
      "Flatten\n",
      "Dense\n",
      "Dense\n",
      "Dense\n"
     ]
    }
   ],
   "source": [
    "for layer in graph.topological_sort:\n",
    "    cur_node = graph.get_node(layer)\n",
    "    node_type = cur_node.type\n",
    "    print(node_type)"
   ]
  },
  {
   "cell_type": "code",
   "execution_count": 20,
   "metadata": {},
   "outputs": [],
   "source": [
    "from mmdnn.conversion.kerasCommon.kerasCommon_parser import Conv"
   ]
  },
  {
   "cell_type": "code",
   "execution_count": 22,
   "metadata": {},
   "outputs": [
    {
     "data": {
      "text/plain": [
       "'SeparableConv'"
      ]
     },
     "execution_count": 22,
     "metadata": {},
     "output_type": "execute_result"
    }
   ],
   "source": [
    "Conv.SeparableConv.name"
   ]
  },
  {
   "cell_type": "code",
   "execution_count": null,
   "metadata": {},
   "outputs": [],
   "source": []
  }
 ],
 "metadata": {
  "kernelspec": {
   "display_name": "Python 3",
   "language": "python",
   "name": "python3"
  },
  "language_info": {
   "codemirror_mode": {
    "name": "ipython",
    "version": 3
   },
   "file_extension": ".py",
   "mimetype": "text/x-python",
   "name": "python",
   "nbconvert_exporter": "python",
   "pygments_lexer": "ipython3",
   "version": "3.6.9"
  }
 },
 "nbformat": 4,
 "nbformat_minor": 4
}
