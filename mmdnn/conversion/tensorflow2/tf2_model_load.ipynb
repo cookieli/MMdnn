{
 "cells": [
  {
   "cell_type": "code",
   "execution_count": 1,
   "metadata": {},
   "outputs": [],
   "source": [
    "import sys\n",
    "sys.path.append('/app/')"
   ]
  },
  {
   "cell_type": "code",
   "execution_count": 2,
   "metadata": {},
   "outputs": [],
   "source": [
    "from __future__ import absolute_import\n",
    "import os\n",
    "import tensorflow as tf"
   ]
  },
  {
   "cell_type": "code",
   "execution_count": 3,
   "metadata": {},
   "outputs": [],
   "source": [
    "path = '/app/mmdnn/conversion/examples/tensorflow2/imagenet_vgg16.h5'"
   ]
  },
  {
   "cell_type": "code",
   "execution_count": 4,
   "metadata": {},
   "outputs": [
    {
     "name": "stdout",
     "output_type": "stream",
     "text": [
      "WARNING:tensorflow:No training configuration found in the save file, so the model was *not* compiled. Compile it manually.\n"
     ]
    }
   ],
   "source": [
    "from mmdnn.conversion.tensorflow2.tf2_graph import Tf2Graph\n",
    "from mmdnn.conversion.tensorflow2.tf2_parser import Tf2Parser\n",
    "parser = Tf2Parser(path)"
   ]
  },
  {
   "cell_type": "code",
   "execution_count": 5,
   "metadata": {},
   "outputs": [
    {
     "name": "stdout",
     "output_type": "stream",
     "text": [
      "IR network structure is saved as [tmp.json].\n",
      "IR network structure is saved as [tmp.pb].\n",
      "IR weights are saved as [tmp.npy].\n"
     ]
    }
   ],
   "source": [
    "parser.run('tmp')"
   ]
  },
  {
   "cell_type": "code",
   "execution_count": 7,
   "metadata": {},
   "outputs": [],
   "source": [
    "from mmdnn.conversion.tensorflow2.tf2_graph import Tf2Graph\n"
   ]
  },
  {
   "cell_type": "code",
   "execution_count": 8,
   "metadata": {},
   "outputs": [],
   "source": [
    "graph = Tf2Graph(imported)\n",
    "graph.build()"
   ]
  },
  {
   "cell_type": "code",
   "execution_count": 10,
   "metadata": {},
   "outputs": [
    {
     "name": "stdout",
     "output_type": "stream",
     "text": [
      "InputLayer\n",
      "Conv2D\n",
      "Conv2D\n",
      "MaxPooling2D\n",
      "Conv2D\n",
      "Conv2D\n",
      "MaxPooling2D\n",
      "Conv2D\n",
      "Conv2D\n",
      "Conv2D\n",
      "MaxPooling2D\n",
      "Conv2D\n",
      "Conv2D\n",
      "Conv2D\n",
      "MaxPooling2D\n",
      "Conv2D\n",
      "Conv2D\n",
      "Conv2D\n",
      "MaxPooling2D\n",
      "Flatten\n",
      "Dense\n",
      "Dense\n",
      "Dense\n"
     ]
    }
   ],
   "source": [
    "for layer in graph.topological_sort:\n",
    "    cur_node = graph.get_node(layer)\n",
    "    node_type = cur_node.type\n",
    "    print(node_type)"
   ]
  },
  {
   "cell_type": "code",
   "execution_count": 11,
   "metadata": {},
   "outputs": [
    {
     "data": {
      "text/plain": [
       "'float32'"
      ]
     },
     "execution_count": 11,
     "metadata": {},
     "output_type": "execute_result"
    }
   ],
   "source": [
    "tf.keras.backend.floatx()"
   ]
  },
  {
   "cell_type": "code",
   "execution_count": 12,
   "metadata": {},
   "outputs": [
    {
     "name": "stdout",
     "output_type": "stream",
     "text": [
      "Collecting Keras\n",
      "  Downloading Keras-2.4.3-py2.py3-none-any.whl (36 kB)\n",
      "Requirement already satisfied: h5py in /usr/local/lib/python3.6/dist-packages (from Keras) (2.10.0)\n",
      "Collecting pyyaml\n",
      "  Downloading PyYAML-5.3.1.tar.gz (269 kB)\n",
      "\u001b[K     |████████████████████████████████| 269 kB 384 kB/s eta 0:00:01\n",
      "\u001b[?25hCollecting scipy>=0.14\n",
      "  Downloading scipy-1.5.2-cp36-cp36m-manylinux1_x86_64.whl (25.9 MB)\n",
      "\u001b[K     |████████████████████████████████| 25.9 MB 59 kB/s eta 0:00:019\n",
      "\u001b[?25hRequirement already satisfied: numpy>=1.9.1 in /usr/local/lib/python3.6/dist-packages (from Keras) (1.18.5)\n",
      "Requirement already satisfied: six in /usr/local/lib/python3.6/dist-packages (from h5py->Keras) (1.15.0)\n",
      "Building wheels for collected packages: pyyaml\n",
      "  Building wheel for pyyaml (setup.py) ... \u001b[?25ldone\n",
      "\u001b[?25h  Created wheel for pyyaml: filename=PyYAML-5.3.1-cp36-cp36m-linux_x86_64.whl size=45919 sha256=33299e61dc16bada23dcd5706b96eb228f37c6326dea81850df30f359ac04c98\n",
      "  Stored in directory: /root/.cache/pip/wheels/e5/9d/ad/2ee53cf262cba1ffd8afe1487eef788ea3f260b7e6232a80fc\n",
      "Successfully built pyyaml\n",
      "Installing collected packages: pyyaml, scipy, Keras\n",
      "Successfully installed Keras-2.4.3 pyyaml-5.3.1 scipy-1.5.2\n"
     ]
    }
   ],
   "source": [
    "!pip install Keras\n"
   ]
  },
  {
   "cell_type": "code",
   "execution_count": 13,
   "metadata": {},
   "outputs": [
    {
     "name": "stdout",
     "output_type": "stream",
     "text": [
      "/bin/sh: 1: mmtoir: not found\r\n"
     ]
    }
   ],
   "source": [
    "!mmtoir -f keras -w '/app/mmdnn/conversion/examples/tensorflow2/imagenet_vgg16.h5' -o converted"
   ]
  },
  {
   "cell_type": "code",
   "execution_count": 1,
   "metadata": {},
   "outputs": [
    {
     "ename": "ModuleNotFoundError",
     "evalue": "No module named 'mmdnn'",
     "output_type": "error",
     "traceback": [
      "\u001b[0;31m---------------------------------------------------------------------------\u001b[0m",
      "\u001b[0;31mModuleNotFoundError\u001b[0m                       Traceback (most recent call last)",
      "\u001b[0;32m<ipython-input-1-76654ee60cf9>\u001b[0m in \u001b[0;36m<module>\u001b[0;34m\u001b[0m\n\u001b[0;32m----> 1\u001b[0;31m \u001b[0;32mfrom\u001b[0m \u001b[0mmmdnn\u001b[0m\u001b[0;34m.\u001b[0m\u001b[0mconversion\u001b[0m\u001b[0;34m.\u001b[0m\u001b[0mkerasCommon\u001b[0m\u001b[0;34m.\u001b[0m\u001b[0mkerasCommon_parser\u001b[0m \u001b[0;32mimport\u001b[0m \u001b[0mConv\u001b[0m\u001b[0;34m\u001b[0m\u001b[0;34m\u001b[0m\u001b[0m\n\u001b[0m",
      "\u001b[0;31mModuleNotFoundError\u001b[0m: No module named 'mmdnn'"
     ]
    }
   ],
   "source": [
    "from mmdnn.conversion.kerasCommon.kerasCommon_parser import Conv"
   ]
  },
  {
   "cell_type": "code",
   "execution_count": 6,
   "metadata": {},
   "outputs": [],
   "source": [
    "class BaseOp(object):\n",
    "    def __init__(self):\n",
    "        self.A = 0\n",
    "        self.B = 10\n",
    "\n",
    "    def emit_code(self):\n",
    "        pass\n",
    "    \n",
    "\n",
    "class InputOp(BaseOp):\n",
    "    def __init__(self, shape=None, batch_size=None,\n",
    "                 name=None, dtype=None, sparse=False,\n",
    "                 tensor=None,ragged=False):\n",
    "        self.shape      = shape\n",
    "        self.batch_size = batch_size\n",
    "        self.name       = name\n",
    "        self.dtype      = dtype\n",
    "        self.sparse     = sparse\n",
    "        self.tensor     = tensor\n",
    "        self.ragged     = ragged\n",
    "        super(InputOp, self).__init__()\n",
    "    def p(self):\n",
    "        print(vars(self))"
   ]
  },
  {
   "cell_type": "code",
   "execution_count": 7,
   "metadata": {},
   "outputs": [
    {
     "name": "stdout",
     "output_type": "stream",
     "text": [
      "{'shape': None, 'batch_size': None, 'name': None, 'dtype': None, 'sparse': False, 'tensor': None, 'ragged': False, 'A': 0, 'B': 10}\n"
     ]
    }
   ],
   "source": [
    "t = InputOp()\n",
    "t.p()"
   ]
  },
  {
   "cell_type": "code",
   "execution_count": null,
   "metadata": {},
   "outputs": [],
   "source": []
  }
 ],
 "metadata": {
  "kernelspec": {
   "display_name": "Python 3",
   "language": "python",
   "name": "python3"
  },
  "language_info": {
   "codemirror_mode": {
    "name": "ipython",
    "version": 3
   },
   "file_extension": ".py",
   "mimetype": "text/x-python",
   "name": "python",
   "nbconvert_exporter": "python",
   "pygments_lexer": "ipython3",
   "version": "3.6.9"
  }
 },
 "nbformat": 4,
 "nbformat_minor": 4
}
